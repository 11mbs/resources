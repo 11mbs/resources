{
 "cells": [
  {
   "cell_type": "markdown",
   "id": "81e32871-4cc9-4dfb-a8b9-75c2f5379bdb",
   "metadata": {},
   "source": [
    "### Retina hub - a user driven database of papers in the retina field\n",
    "\n",
    "#### This notebook contains code to populate the retina paper database.\n",
    "\n",
    "- An online form is presented to users. \n",
    "- They fill out information about the paper they want to add (URL, DOI and keywords)\n",
    "- code pulls information from the form (results are stored in a datasheet) and stores it in pandas\n",
    "- using CrossREF api (and habanero), we use DOIs to retrive metadata (authors, publication year, journal etc)\n",
    "- using Zotero api (and pyzotero), we put the metadata retrieved into a Zotero public library, together with keywords added by users\n",
    "- using anothe python library we use each zotero entry to create a post on a wordpress website.\n",
    "\n"
   ]
  },
  {
   "cell_type": "code",
   "execution_count": 1,
   "id": "205a9024-8cd3-4005-a00d-c07fa92c68a9",
   "metadata": {},
   "outputs": [],
   "source": [
    "#import all necessary libraries\n",
    "import pandas as pd\n",
    "from pyzotero import zotero\n",
    "import requests\n",
    "import doi"
   ]
  },
  {
   "cell_type": "code",
   "execution_count": 2,
   "id": "94a1af50-cc1c-40b6-90a2-7406b8d6e6c8",
   "metadata": {},
   "outputs": [],
   "source": [
    "#import data from datasheet\n",
    "with open(\"zotero_sheet.txt\") as fid:\n",
    "    sheetId = fid.readline()\n",
    "\n",
    "url1 = \"https://docs.google.com/spreadsheets/d/\"+sheetId +\"/export?format=csv\"\n",
    "\n",
    "#pull data from the sheet into a pandas dataframe\n",
    "allEntries = pd.read_csv(url1,\n",
    "                         header=0,\n",
    "                        #index_col=0,\n",
    "                        )\n",
    "doiKey = 'Publication Identifier (DOI, ISBN, PMID, arXiv ID). If you do not know any of these for the entry, please use crossref search engine https://www.crossref.org/guestquery - use the subfield \"search on article title\")'\n",
    "\n",
    "#allEntries"
   ]
  },
  {
   "cell_type": "markdown",
   "id": "0eaaaa88-b0d5-41ac-a9a3-0d24c79e6004",
   "metadata": {},
   "source": [
    "#### retrieve metadata with translators \n",
    "\n",
    "Zotero API does not have a direct way of getting article metadata.   \n",
    "But they do have a \"translators\" library (https://github.com/zotero/translation-server)  \n",
    "so the solution is to use a translator, grab article/book metadata and use it to create a zotero entry.\n",
    "\n",
    "Once the entry is created, it can be exposed on the web/repo.\n",
    "\n",
    "Let's try this below. The steps are basically:\n",
    "- install docker (outside of the python pipeline)\n",
    "- run the docker container listed on the github repository listed above\n",
    "- use \"requests\" from within python to get the metadata.\n",
    "- create zotero entries with the retrieved metadata.\n"
   ]
  },
  {
   "cell_type": "code",
   "execution_count": 7,
   "id": "1cf49aa6-4006-4f18-adfc-f6424ad19143",
   "metadata": {},
   "outputs": [],
   "source": [
    "#play around with zotero api and see what is in the zotero library\n",
    "with open(\"zotero_key.txt\") as fid:\n",
    "    apiKey = fid.readline()\n",
    "    \n",
    "libID = \"4584648\"\n",
    "libType = \"group\"\n",
    "\n",
    "zot = zotero.Zotero(libID, libType, apiKey)\n",
    "\n",
    "\n",
    "#prepare curl call\n",
    "headers = {'content-type': 'text/plain','Accept-Charset': 'UTF-8'}\n",
    "searchUrl = 'http://127.0.0.1:1969/search'\n",
    "filterTags = ['Type',\n",
    "              'Species (select all that apply)',\n",
    "              'cell types (select all that apply)',\n",
    "              'Main areas (please select all that apply)',\n",
    "              'Other keywords (separated by commas)']\n",
    "\n",
    "#run through dataframe and get DOIS\n",
    "for item in allEntries.index:\n",
    "    if pd.notna(allEntries.loc[item][doiKey]):\n",
    "        data = allEntries.loc[item][doiKey]\n",
    "        r = requests.post(url=searchUrl,headers=headers,data=data)\n",
    "        if r.status_code != 501:\n",
    "            metaData = r.json()[0]\n",
    "            template = zot.item_template(metaData[\"itemType\"])\n",
    "            for key in template.keys():\n",
    "                if key in metaData.keys():\n",
    "                    template[key]=metaData[key]\n",
    "            tagsTemp = list()\n",
    "            for tag in filterTags:\n",
    "                #print(allEntries.loc[item][tag])\n",
    "                #print(template[\"tags\"])\n",
    "                tagsTemp.append(str(allEntries.loc[item][tag]))\n",
    "            template[\"extra\"]=template[\"extra\"]+\";\"+';'.join(tagsTemp)\n",
    "            #try:\n",
    "            #    zot.update_item([template])\n",
    "            #except KeyError:\n",
    "            #zot.add_tags(template, ','.join(tagsTemp))\n",
    "            #template['tags']=';'.join(tagsTemp)\n",
    "            zot.create_items([template])\n",
    "            \n",
    "        else:\n",
    "            print(\"the following entry has invalid DOI\")\n",
    "            print(allEntries.loc[item])\n",
    "    else:\n",
    "        pass\n",
    "\n",
    "#template\n"
   ]
  },
  {
   "cell_type": "code",
   "execution_count": 35,
   "id": "b99e5f4c-bf16-45f6-950a-25b024b08250",
   "metadata": {},
   "outputs": [
    {
     "ename": "TypeError",
     "evalue": "unhashable type: 'dict'",
     "output_type": "error",
     "traceback": [
      "\u001b[0;31m---------------------------------------------------------------------------\u001b[0m",
      "\u001b[0;31mTypeError\u001b[0m                                 Traceback (most recent call last)",
      "\u001b[0;32m<ipython-input-35-1bfeabe5f0ae>\u001b[0m in \u001b[0;36m<module>\u001b[0;34m\u001b[0m\n\u001b[1;32m      1\u001b[0m \u001b[0mtagsTemp\u001b[0m\u001b[0;34m=\u001b[0m\u001b[0;34m[\u001b[0m\u001b[0;34m\"fish\"\u001b[0m\u001b[0;34m,\u001b[0m\u001b[0;34m\"bipolar cell\"\u001b[0m\u001b[0;34m]\u001b[0m\u001b[0;34m\u001b[0m\u001b[0;34m\u001b[0m\u001b[0m\n\u001b[0;32m----> 2\u001b[0;31m \u001b[0mzot\u001b[0m\u001b[0;34m.\u001b[0m\u001b[0madd_tags\u001b[0m\u001b[0;34m(\u001b[0m\u001b[0;34m{\u001b[0m\u001b[0mtemplate\u001b[0m\u001b[0;34m}\u001b[0m\u001b[0;34m,\u001b[0m \u001b[0;34m','\u001b[0m\u001b[0;34m.\u001b[0m\u001b[0mjoin\u001b[0m\u001b[0;34m(\u001b[0m\u001b[0mtagsTemp\u001b[0m\u001b[0;34m)\u001b[0m\u001b[0;34m)\u001b[0m\u001b[0;34m\u001b[0m\u001b[0;34m\u001b[0m\u001b[0m\n\u001b[0m",
      "\u001b[0;31mTypeError\u001b[0m: unhashable type: 'dict'"
     ]
    }
   ],
   "source": [
    "tagsTemp=[\"fish\",\"bipolar cell\"]\n",
    "zot.add_tags(template, ','.join(tagsTemp))"
   ]
  },
  {
   "cell_type": "code",
   "execution_count": 34,
   "id": "73bed184-aef5-43ff-b860-f7457413548e",
   "metadata": {},
   "outputs": [
    {
     "data": {
      "text/plain": [
       "'fish,bipolar cell'"
      ]
     },
     "execution_count": 34,
     "metadata": {},
     "output_type": "execute_result"
    }
   ],
   "source": [
    "','.join(tagsTemp)"
   ]
  },
  {
   "cell_type": "code",
   "execution_count": 6,
   "id": "2d278bf7-fe91-4724-82d5-9b477d139e38",
   "metadata": {},
   "outputs": [
    {
     "data": {
      "text/plain": [
       "[]"
      ]
     },
     "execution_count": 6,
     "metadata": {},
     "output_type": "execute_result"
    }
   ],
   "source": [
    "zot.items()"
   ]
  },
  {
   "cell_type": "code",
   "execution_count": 56,
   "id": "88512e49-ce17-4957-a430-bdc6cf736935",
   "metadata": {},
   "outputs": [
    {
     "name": "stdout",
     "output_type": "stream",
     "text": [
      "Timestamp\n",
      "Publication URL\n",
      "Publication Identifier (DOI, ISBN, PMID, arXiv ID). If you do not know any of these for the entry, please use crossref search engine https://www.crossref.org/guestquery - use the subfield \"search on article title\")\n",
      "Type\n",
      "Species (select all that apply)\n",
      "cell types (select all that apply)\n",
      "Main areas (please select all that apply)\n",
      "Other keywords (separated by commas)\n",
      "Contact email (optional)\n"
     ]
    }
   ],
   "source": [
    "\n",
    "\n",
    "        \n",
    "        \n",
    "data = '7064538'#'https://www.googleapis.com/qpxExpress/v1/trips/search?key=mykeyhere'\n",
    "#r = requests.get('https://github.com/timeline.json')\n",
    "\n",
    "headers = {'content-type': 'text/plain','Accept-Charset': 'UTF-8'}\n",
    "r = requests.post(url='http://127.0.0.1:1969/search',headers=headers,data=data)\n",
    "#r = requests.post(url,  headers=headers)\n",
    "#-H 'Content-Type: text/plain' http://127.0.0.1:1969/web\n",
    "#curl -d @request.json --header \"Content-Type: application/json\" https://www.googleapis.com/qpxExpress/v1/trips/search?key=mykeyhe"
   ]
  },
  {
   "cell_type": "code",
   "execution_count": 102,
   "id": "b8fa1218-5f0e-443a-a4f2-1aa2138e59cc",
   "metadata": {},
   "outputs": [],
   "source": [
    "template = zot.item_template(metaData[0][\"itemType\"])"
   ]
  }
 ],
 "metadata": {
  "kernelspec": {
   "display_name": "Python 3",
   "language": "python",
   "name": "python3"
  },
  "language_info": {
   "codemirror_mode": {
    "name": "ipython",
    "version": 3
   },
   "file_extension": ".py",
   "mimetype": "text/x-python",
   "name": "python",
   "nbconvert_exporter": "python",
   "pygments_lexer": "ipython3",
   "version": "3.8.3"
  }
 },
 "nbformat": 4,
 "nbformat_minor": 5
}
